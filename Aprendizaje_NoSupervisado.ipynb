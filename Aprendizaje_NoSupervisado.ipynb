{
 "cells": [
  {
   "cell_type": "markdown",
   "id": "1386f789",
   "metadata": {},
   "source": [
    "# Librerias"
   ]
  },
  {
   "cell_type": "code",
   "execution_count": null,
   "id": "c4c48d50",
   "metadata": {
    "ExecuteTime": {
     "end_time": "2023-03-26T05:39:22.446251Z",
     "start_time": "2023-03-26T05:39:18.658289Z"
    }
   },
   "outputs": [],
   "source": [
    "from sklearn.metrics import accuracy_score, confusion_matrix, precision_score, precision_recall_curve,recall_score, f1_score,  make_scorer\n",
    "from scipy.stats import ks_2samp, kruskal, chisquare\n",
    "from sklearn.preprocessing import MinMaxScaler, StandardScaler\n",
    "import cufflinks as cf\n",
    "import seaborn as sns\n",
    "import matplotlib.pyplot as plt\n",
    "from sklearn.metrics import silhouette_score\n",
    "from sklearn.cluster import KMeans\n",
    "from sklearn.manifold import MDS\n",
    "from sklearn.decomposition import PCA\n",
    "from sklearn.tree import DecisionTreeClassifier\n",
    "from sklearn.pipeline import make_pipeline\n",
    "from sklearn.neighbors import KNeighborsClassifier\n",
    "from varclushi import VarClusHi\n",
    "from sklearn.neural_network import MLPClassifier\n",
    "from sklearn.model_selection import train_test_split\n",
    "from sklearn import tree\n",
    "from sklearn.feature_selection import SelectKBest, VarianceThreshold\n",
    "from sklearn.model_selection import RandomizedSearchCV, GridSearchCV\n",
    "import pandas as pd\n",
    "\n",
    "import plotly.express as px \n",
    "import numpy as np\n",
    "\n",
    "import autopep8\n",
    "import os\n",
    "import warnings\n",
    "warnings.filterwarnings(\"ignore\")\n",
    "\n",
    "\n",
    "cf.go_offline()\n",
    "pd.set_option('display.max_columns', None)\n",
    "pd.set_option('display.max_colwidth', None)"
   ]
  },
  {
   "cell_type": "markdown",
   "id": "acecb6b6",
   "metadata": {},
   "source": [
    "# Carga de datos"
   ]
  },
  {
   "cell_type": "code",
   "execution_count": null,
   "id": "fc03bb24",
   "metadata": {
    "ExecuteTime": {
     "end_time": "2023-03-26T05:39:26.064129Z",
     "start_time": "2023-03-26T05:39:26.059329Z"
    }
   },
   "outputs": [],
   "source": [
    "path = '/home/david/AMV/Ciencia_Datos/Proyecto_Final_Salary/'"
   ]
  },
  {
   "cell_type": "code",
   "execution_count": null,
   "id": "0ce066b7",
   "metadata": {
    "ExecuteTime": {
     "end_time": "2023-03-26T05:39:26.374721Z",
     "start_time": "2023-03-26T05:39:26.338001Z"
    }
   },
   "outputs": [],
   "source": [
    "os.listdir(path)"
   ]
  },
  {
   "cell_type": "code",
   "execution_count": null,
   "id": "cad13648",
   "metadata": {
    "ExecuteTime": {
     "end_time": "2023-03-26T05:39:26.670239Z",
     "start_time": "2023-03-26T05:39:26.572872Z"
    }
   },
   "outputs": [],
   "source": [
    "df = pd.read_csv(path + 'salary.csv')"
   ]
  },
  {
   "cell_type": "markdown",
   "id": "51546861",
   "metadata": {},
   "source": [
    "# No Supervisado "
   ]
  },
  {
   "cell_type": "markdown",
   "id": "946b58ec",
   "metadata": {},
   "source": [
    "## Analisis Exploratorio"
   ]
  },
  {
   "cell_type": "markdown",
   "id": "abee7a6a",
   "metadata": {},
   "source": [
    "### Ausentes"
   ]
  },
  {
   "cell_type": "code",
   "execution_count": null,
   "id": "e44730f4",
   "metadata": {
    "ExecuteTime": {
     "end_time": "2023-03-26T05:39:27.635254Z",
     "start_time": "2023-03-26T05:39:27.569643Z"
    }
   },
   "outputs": [],
   "source": [
    "df.isna().sum() "
   ]
  },
  {
   "cell_type": "markdown",
   "id": "3310720c",
   "metadata": {},
   "source": [
    "**Sin ausentes**"
   ]
  },
  {
   "cell_type": "markdown",
   "id": "3578aa34",
   "metadata": {},
   "source": [
    "### Duplicados"
   ]
  },
  {
   "cell_type": "code",
   "execution_count": null,
   "id": "e6fa2afe",
   "metadata": {
    "ExecuteTime": {
     "end_time": "2023-03-26T05:39:28.162398Z",
     "start_time": "2023-03-26T05:39:28.111672Z"
    }
   },
   "outputs": [],
   "source": [
    "df.shape, df.dropna().shape "
   ]
  },
  {
   "cell_type": "markdown",
   "id": "bc7cd3a6",
   "metadata": {},
   "source": [
    "**Sin duplicados**"
   ]
  },
  {
   "cell_type": "markdown",
   "id": "7faadf3a",
   "metadata": {},
   "source": [
    "## Ingenieria de datos"
   ]
  },
  {
   "cell_type": "code",
   "execution_count": null,
   "id": "c779e86d",
   "metadata": {
    "ExecuteTime": {
     "end_time": "2023-03-26T05:39:28.673043Z",
     "start_time": "2023-03-26T05:39:28.661885Z"
    }
   },
   "outputs": [],
   "source": [
    "df.shape "
   ]
  },
  {
   "cell_type": "code",
   "execution_count": null,
   "id": "25d4b055",
   "metadata": {
    "ExecuteTime": {
     "end_time": "2023-03-26T05:39:28.857826Z",
     "start_time": "2023-03-26T05:39:28.836443Z"
    }
   },
   "outputs": [],
   "source": [
    "df.head(3)"
   ]
  },
  {
   "cell_type": "code",
   "execution_count": null,
   "id": "1d28a9c2",
   "metadata": {
    "ExecuteTime": {
     "end_time": "2023-03-26T05:39:29.017037Z",
     "start_time": "2023-03-26T05:39:29.011731Z"
    }
   },
   "outputs": [],
   "source": [
    "df.columns"
   ]
  },
  {
   "cell_type": "markdown",
   "id": "832bbb94",
   "metadata": {},
   "source": [
    "### Variables Continuas"
   ]
  },
  {
   "cell_type": "code",
   "execution_count": null,
   "id": "365c6b6e",
   "metadata": {
    "ExecuteTime": {
     "end_time": "2023-03-26T05:39:29.374885Z",
     "start_time": "2023-03-26T05:39:29.364319Z"
    }
   },
   "outputs": [],
   "source": [
    "df = df.rename(columns ={'age':'x_age',\n",
    "                    'fnlwgt':'x_fnlwgt',\n",
    "                    'education-num':'x_education-num',\n",
    "                    'capital-gain':'x_capital-gain',\n",
    "                    'capital-loss':'x_capital-loss',\n",
    "                    'hours-per-week':'x_hours-per-week'})"
   ]
  },
  {
   "cell_type": "code",
   "execution_count": null,
   "id": "4b46e5cc",
   "metadata": {
    "ExecuteTime": {
     "end_time": "2023-03-26T05:39:29.543697Z",
     "start_time": "2023-03-26T05:39:29.534747Z"
    }
   },
   "outputs": [],
   "source": [
    "df['x_years_exp'] = (df['x_age'] - df['x_education-num']) /df['x_age']"
   ]
  },
  {
   "cell_type": "code",
   "execution_count": null,
   "id": "fc1f6b0c",
   "metadata": {
    "ExecuteTime": {
     "end_time": "2023-03-26T03:39:04.532114Z",
     "start_time": "2023-03-26T03:39:04.516018Z"
    }
   },
   "outputs": [],
   "source": []
  },
  {
   "cell_type": "code",
   "execution_count": null,
   "id": "c6c94ac5",
   "metadata": {
    "ExecuteTime": {
     "end_time": "2023-03-26T05:39:30.414182Z",
     "start_time": "2023-03-26T05:39:29.889993Z"
    }
   },
   "outputs": [],
   "source": [
    "l = []\n",
    "for c in range(len(df)):\n",
    "    if df['x_capital-gain'][c] >0 or df['x_capital-loss'][c] >0:\n",
    "        l.append(1)\n",
    "    else:\n",
    "        l.append(0)"
   ]
  },
  {
   "cell_type": "code",
   "execution_count": null,
   "id": "4af9e4f5",
   "metadata": {
    "ExecuteTime": {
     "end_time": "2023-03-26T05:39:30.525990Z",
     "start_time": "2023-03-26T05:39:30.504126Z"
    }
   },
   "outputs": [],
   "source": [
    "df['x_invest'] = l "
   ]
  },
  {
   "cell_type": "code",
   "execution_count": null,
   "id": "c0250cd6",
   "metadata": {
    "ExecuteTime": {
     "end_time": "2023-03-26T05:39:30.624161Z",
     "start_time": "2023-03-26T05:39:30.617430Z"
    }
   },
   "outputs": [],
   "source": [
    "varc = list(df.filter(like = 'x_').columns )"
   ]
  },
  {
   "cell_type": "code",
   "execution_count": null,
   "id": "68b9926b",
   "metadata": {
    "ExecuteTime": {
     "end_time": "2023-03-26T05:39:30.704984Z",
     "start_time": "2023-03-26T05:39:30.697269Z"
    }
   },
   "outputs": [],
   "source": [
    "varc "
   ]
  },
  {
   "cell_type": "code",
   "execution_count": null,
   "id": "81b25e1a",
   "metadata": {
    "ExecuteTime": {
     "end_time": "2023-03-26T05:39:30.808073Z",
     "start_time": "2023-03-26T05:39:30.785831Z"
    }
   },
   "outputs": [],
   "source": [
    "df[varc] "
   ]
  },
  {
   "cell_type": "code",
   "execution_count": null,
   "id": "91bd469b",
   "metadata": {
    "ExecuteTime": {
     "end_time": "2023-03-26T05:39:30.947615Z",
     "start_time": "2023-03-26T05:39:30.883643Z"
    }
   },
   "outputs": [],
   "source": [
    "df[varc].describe()"
   ]
  },
  {
   "cell_type": "code",
   "execution_count": null,
   "id": "1ac2aab6",
   "metadata": {},
   "outputs": [],
   "source": []
  },
  {
   "cell_type": "markdown",
   "id": "34107904",
   "metadata": {},
   "source": [
    "### Variables Discretas"
   ]
  },
  {
   "cell_type": "code",
   "execution_count": null,
   "id": "66e85fb0",
   "metadata": {
    "ExecuteTime": {
     "end_time": "2023-03-26T05:39:31.440269Z",
     "start_time": "2023-03-26T05:39:31.432161Z"
    }
   },
   "outputs": [],
   "source": [
    "vard = [v for v in list(df.columns) if v not in varc] "
   ]
  },
  {
   "cell_type": "markdown",
   "id": "44da3979",
   "metadata": {},
   "source": [
    "**Estas nos van a servir para el perfilamiento de los clusters una vez acabado, cuando se le dio un enfoque de aprendizaje supervisado, estas variables fueron tratadas para convertirlas a variables continuas con el uso de la variable objetivo para sacar el porcentaje de ocurrencia de objetivo segun cada valor de la variable discreta y reemplazarlo (Se partio el espacio en Train y validate antes para este proceso), pero en este caso no sera necesario y la variable objetivo pasa a formar parte de las variables discretas**"
   ]
  },
  {
   "cell_type": "code",
   "execution_count": null,
   "id": "6025cd47",
   "metadata": {},
   "outputs": [],
   "source": []
  },
  {
   "cell_type": "code",
   "execution_count": null,
   "id": "3f42311b",
   "metadata": {},
   "outputs": [],
   "source": []
  },
  {
   "cell_type": "markdown",
   "id": "2111753c",
   "metadata": {},
   "source": [
    "### Extremos"
   ]
  },
  {
   "cell_type": "code",
   "execution_count": null,
   "id": "224f3ac3",
   "metadata": {
    "ExecuteTime": {
     "end_time": "2023-03-26T05:39:34.339750Z",
     "start_time": "2023-03-26T05:39:32.434928Z"
    }
   },
   "outputs": [],
   "source": [
    "df[varc].hist(figsize=(10,10)) "
   ]
  },
  {
   "cell_type": "code",
   "execution_count": null,
   "id": "3b1f8c04",
   "metadata": {
    "ExecuteTime": {
     "end_time": "2023-03-26T05:39:34.510386Z",
     "start_time": "2023-03-26T05:39:34.420618Z"
    }
   },
   "outputs": [],
   "source": [
    "ext = df[varc].describe(percentiles=[0.01,0.99]).T[['1%','99%']].reset_index()\n",
    "\n",
    "for v, li, ls in ext.values:\n",
    "    df[f'ol_{v}'] = ( (df[v]<li) | (df[v]>ls) ).astype(int)\n",
    "\n",
    "df['ext'] = df.filter(like='ol').max(axis=1)\n",
    "df.drop(df.filter(like='ol_').columns, axis=1, inplace=True )\n",
    "\n",
    "df['ext'].value_counts(True)"
   ]
  },
  {
   "cell_type": "code",
   "execution_count": null,
   "id": "7d10046e",
   "metadata": {
    "ExecuteTime": {
     "end_time": "2023-03-26T05:39:34.655547Z",
     "start_time": "2023-03-26T05:39:34.635032Z"
    }
   },
   "outputs": [],
   "source": [
    "df = df.loc[ df['ext'] == 0 ].drop(['ext'],axis=1)"
   ]
  },
  {
   "cell_type": "code",
   "execution_count": null,
   "id": "8d9f5783",
   "metadata": {
    "ExecuteTime": {
     "end_time": "2023-03-23T00:46:17.652266Z",
     "start_time": "2023-03-23T00:46:17.645232Z"
    }
   },
   "outputs": [],
   "source": []
  },
  {
   "cell_type": "code",
   "execution_count": null,
   "id": "18baeb96",
   "metadata": {
    "ExecuteTime": {
     "end_time": "2023-03-26T05:39:36.279234Z",
     "start_time": "2023-03-26T05:39:34.752808Z"
    }
   },
   "outputs": [],
   "source": [
    "df[varc].hist(figsize=(10,10)) "
   ]
  },
  {
   "cell_type": "markdown",
   "id": "21d6c966",
   "metadata": {},
   "source": [
    "## Analisis Bivariado"
   ]
  },
  {
   "cell_type": "code",
   "execution_count": null,
   "id": "8b2c686d",
   "metadata": {
    "ExecuteTime": {
     "end_time": "2023-03-26T05:39:36.411450Z",
     "start_time": "2023-03-26T05:39:36.379253Z"
    },
    "scrolled": true
   },
   "outputs": [],
   "source": [
    "df[varc].corr()"
   ]
  },
  {
   "cell_type": "code",
   "execution_count": null,
   "id": "4405b87c",
   "metadata": {},
   "outputs": [],
   "source": []
  },
  {
   "cell_type": "markdown",
   "id": "2b93f1a6",
   "metadata": {},
   "source": [
    "## Multicolinealidad"
   ]
  },
  {
   "cell_type": "code",
   "execution_count": null,
   "id": "7f166a5f",
   "metadata": {
    "ExecuteTime": {
     "end_time": "2023-03-26T05:39:37.432782Z",
     "start_time": "2023-03-26T05:39:37.112643Z"
    }
   },
   "outputs": [],
   "source": [
    "vc = VarClusHi(df=df,feat_list=varc).varclus().rsquare.sort_values( by=['Cluster',\n",
    "                                                                        'RS_Ratio'] , \n",
    "                                                                   ascending=[1,1] ).reset_index(drop=True)\n",
    "\n",
    "\n",
    "\n",
    "vc['id'] = vc.groupby('Cluster').cumcount()+1 \n",
    "\n",
    "\n",
    "vc "
   ]
  },
  {
   "cell_type": "markdown",
   "id": "8bb273bc",
   "metadata": {},
   "source": [
    "**Nuestras variables redujeron sus numeros de 8 a 6 descartando 2 que nos ofrecian la misma información**"
   ]
  },
  {
   "cell_type": "code",
   "execution_count": null,
   "id": "201b3fa6",
   "metadata": {
    "ExecuteTime": {
     "end_time": "2023-03-26T05:39:37.548676Z",
     "start_time": "2023-03-26T05:39:37.541318Z"
    }
   },
   "outputs": [],
   "source": [
    "best = vc.loc[vc['id'] == 1]['Variable'].tolist() \n",
    "best  "
   ]
  },
  {
   "cell_type": "code",
   "execution_count": null,
   "id": "42e07f15",
   "metadata": {},
   "outputs": [],
   "source": []
  },
  {
   "cell_type": "code",
   "execution_count": null,
   "id": "705bf4f5",
   "metadata": {},
   "outputs": [],
   "source": []
  },
  {
   "cell_type": "markdown",
   "id": "35f01990",
   "metadata": {},
   "source": [
    "## Reducción de Dimensiones"
   ]
  },
  {
   "cell_type": "code",
   "execution_count": null,
   "id": "f33f8e0c",
   "metadata": {
    "ExecuteTime": {
     "end_time": "2023-03-26T05:39:38.320767Z",
     "start_time": "2023-03-26T05:39:38.311377Z"
    }
   },
   "outputs": [],
   "source": [
    "X = df[best] "
   ]
  },
  {
   "cell_type": "code",
   "execution_count": null,
   "id": "4a277c7a",
   "metadata": {
    "ExecuteTime": {
     "end_time": "2023-03-26T05:39:38.523625Z",
     "start_time": "2023-03-26T05:39:38.511524Z"
    }
   },
   "outputs": [],
   "source": [
    "sc=StandardScaler()\n",
    "X_sc = sc.fit_transform(X)"
   ]
  },
  {
   "cell_type": "code",
   "execution_count": null,
   "id": "11ef3578",
   "metadata": {
    "ExecuteTime": {
     "end_time": "2023-03-26T05:39:38.702763Z",
     "start_time": "2023-03-26T05:39:38.692390Z"
    }
   },
   "outputs": [],
   "source": [
    "mm=MinMaxScaler()\n",
    "X_mm = mm.fit_transform(X) "
   ]
  },
  {
   "cell_type": "markdown",
   "id": "23a401fe",
   "metadata": {},
   "source": [
    "### AF"
   ]
  },
  {
   "cell_type": "code",
   "execution_count": null,
   "id": "fcc52a5e",
   "metadata": {
    "ExecuteTime": {
     "end_time": "2023-03-26T05:39:39.010653Z",
     "start_time": "2023-03-26T05:39:39.006429Z"
    }
   },
   "outputs": [],
   "source": [
    "from factor_analyzer.factor_analyzer import calculate_bartlett_sphericity"
   ]
  },
  {
   "cell_type": "code",
   "execution_count": null,
   "id": "46cbaf88",
   "metadata": {
    "ExecuteTime": {
     "end_time": "2023-03-26T05:39:39.258444Z",
     "start_time": "2023-03-26T05:39:39.248740Z"
    }
   },
   "outputs": [],
   "source": [
    "chi2,p = calculate_bartlett_sphericity(X_sc)\n",
    "print(\"Esfericidad de Bartlett\")\n",
    "print(\"Valor de Chi : \",chi2)\n",
    "print(\"P - value : \",p) "
   ]
  },
  {
   "cell_type": "code",
   "execution_count": null,
   "id": "cbbca571",
   "metadata": {
    "ExecuteTime": {
     "end_time": "2023-03-26T05:39:39.504821Z",
     "start_time": "2023-03-26T05:39:39.498687Z"
    }
   },
   "outputs": [],
   "source": [
    "from factor_analyzer.factor_analyzer import calculate_kmo "
   ]
  },
  {
   "cell_type": "code",
   "execution_count": null,
   "id": "ca65dc0c",
   "metadata": {
    "ExecuteTime": {
     "end_time": "2023-03-26T05:39:39.708578Z",
     "start_time": "2023-03-26T05:39:39.696825Z"
    }
   },
   "outputs": [],
   "source": [
    "kmo_all,kmo_model = calculate_kmo(X_sc)\n",
    "print(\"KMO Test Statisitc\",kmo_model)  "
   ]
  },
  {
   "cell_type": "markdown",
   "id": "a88bd891",
   "metadata": {
    "ExecuteTime": {
     "end_time": "2023-03-20T23:32:05.090719Z",
     "start_time": "2023-03-20T23:32:05.083947Z"
    }
   },
   "source": [
    "**KMO menor a .6**"
   ]
  },
  {
   "cell_type": "markdown",
   "id": "fb3b318f",
   "metadata": {},
   "source": [
    "### PCA"
   ]
  },
  {
   "cell_type": "code",
   "execution_count": null,
   "id": "546c5a72",
   "metadata": {
    "ExecuteTime": {
     "end_time": "2023-03-26T05:39:40.250579Z",
     "start_time": "2023-03-26T05:39:40.246822Z"
    }
   },
   "outputs": [],
   "source": [
    "from sklearn.decomposition import PCA "
   ]
  },
  {
   "cell_type": "code",
   "execution_count": null,
   "id": "551ab8c9",
   "metadata": {
    "ExecuteTime": {
     "end_time": "2023-03-26T05:39:40.579298Z",
     "start_time": "2023-03-26T05:39:40.475521Z"
    }
   },
   "outputs": [],
   "source": [
    "pca = PCA(n_components=3)\n",
    "pca.fit(X_sc) "
   ]
  },
  {
   "cell_type": "code",
   "execution_count": null,
   "id": "bfb33184",
   "metadata": {
    "ExecuteTime": {
     "end_time": "2023-03-26T05:39:40.898021Z",
     "start_time": "2023-03-26T05:39:40.768574Z"
    }
   },
   "outputs": [],
   "source": [
    "X_pca = pd.DataFrame(pca.fit_transform(X_sc))"
   ]
  },
  {
   "cell_type": "code",
   "execution_count": null,
   "id": "e90c2a50",
   "metadata": {
    "ExecuteTime": {
     "end_time": "2023-03-26T05:39:41.249095Z",
     "start_time": "2023-03-26T05:39:41.240327Z"
    }
   },
   "outputs": [],
   "source": [
    "X_pca.columns=[\"componente_1\",\"componente_2\",\"componente_3\"] "
   ]
  },
  {
   "cell_type": "code",
   "execution_count": null,
   "id": "a73c7962",
   "metadata": {
    "ExecuteTime": {
     "end_time": "2023-03-26T05:39:42.357643Z",
     "start_time": "2023-03-26T05:39:41.485490Z"
    }
   },
   "outputs": [],
   "source": [
    "fig = px.scatter_3d(X_pca, x='componente_1', y='componente_2', z='componente_3')\n",
    "fig.show() "
   ]
  },
  {
   "cell_type": "markdown",
   "id": "00ee571b",
   "metadata": {},
   "source": [
    "### Kernel PCA"
   ]
  },
  {
   "cell_type": "code",
   "execution_count": null,
   "id": "b34e2cb2",
   "metadata": {
    "ExecuteTime": {
     "end_time": "2023-03-26T05:39:45.613772Z",
     "start_time": "2023-03-26T05:39:45.598782Z"
    }
   },
   "outputs": [],
   "source": [
    "X.shape"
   ]
  },
  {
   "cell_type": "code",
   "execution_count": null,
   "id": "5c639412",
   "metadata": {
    "ExecuteTime": {
     "end_time": "2023-03-26T05:39:45.995097Z",
     "start_time": "2023-03-26T05:39:45.988859Z"
    }
   },
   "outputs": [],
   "source": [
    "from sklearn.decomposition import  KernelPCA "
   ]
  },
  {
   "cell_type": "code",
   "execution_count": null,
   "id": "7af64041",
   "metadata": {
    "ExecuteTime": {
     "end_time": "2023-03-26T05:39:46.476595Z",
     "start_time": "2023-03-26T05:39:46.418478Z"
    }
   },
   "outputs": [],
   "source": [
    "sc=StandardScaler()\n",
    "X_sc1= sc.fit_transform(X[:5_000])\n",
    "X_sc2= sc.fit_transform(X[5_000:10_000])\n",
    "X_sc3= sc.fit_transform(X[10_000:15_000])\n",
    "X_sc4= sc.fit_transform(X[15_000:20_000])\n",
    "X_sc5= sc.fit_transform(X[20_000:25_000])\n",
    "X_sc6= sc.fit_transform(X[25_000:])"
   ]
  },
  {
   "cell_type": "code",
   "execution_count": null,
   "id": "c59c20ea",
   "metadata": {
    "ExecuteTime": {
     "end_time": "2023-03-26T05:39:46.981994Z",
     "start_time": "2023-03-26T05:39:46.973349Z"
    }
   },
   "outputs": [],
   "source": [
    "kernel_pca = KernelPCA(n_components=3, kernel=\"rbf\",gamma=1e-3,alpha=5e-3,fit_inverse_transform=True) "
   ]
  },
  {
   "cell_type": "code",
   "execution_count": null,
   "id": "61ed3419",
   "metadata": {
    "ExecuteTime": {
     "end_time": "2023-03-26T05:40:44.782293Z",
     "start_time": "2023-03-26T05:39:47.546316Z"
    }
   },
   "outputs": [],
   "source": [
    "X_kpca = pd.DataFrame()\n",
    "for x in [X_sc1, X_sc2, X_sc3,X_sc4, X_sc5, X_sc6]:\n",
    "    X_kpca = pd.concat( [X_kpca, pd.DataFrame(kernel_pca.fit_transform(x)) ],ignore_index=True ) "
   ]
  },
  {
   "cell_type": "code",
   "execution_count": null,
   "id": "553c82aa",
   "metadata": {
    "ExecuteTime": {
     "end_time": "2023-03-26T05:40:44.945841Z",
     "start_time": "2023-03-26T05:40:44.942184Z"
    }
   },
   "outputs": [],
   "source": [
    "X_kpca.columns=[\"componente_1\",\"componente_2\",\"componente_3\"] "
   ]
  },
  {
   "cell_type": "code",
   "execution_count": null,
   "id": "7cf411a4",
   "metadata": {
    "ExecuteTime": {
     "end_time": "2023-03-26T05:40:45.584366Z",
     "start_time": "2023-03-26T05:40:45.208646Z"
    }
   },
   "outputs": [],
   "source": [
    "fig = px.scatter_3d(X_kpca, x='componente_1', y='componente_2', z='componente_3')\n",
    "fig.show() "
   ]
  },
  {
   "cell_type": "code",
   "execution_count": null,
   "id": "da51c662",
   "metadata": {},
   "outputs": [],
   "source": []
  },
  {
   "cell_type": "markdown",
   "id": "e5561a12",
   "metadata": {},
   "source": [
    "### TSNE"
   ]
  },
  {
   "cell_type": "code",
   "execution_count": null,
   "id": "23ba9cf0",
   "metadata": {
    "ExecuteTime": {
     "end_time": "2023-03-26T05:43:00.498201Z",
     "start_time": "2023-03-26T05:43:00.490959Z"
    }
   },
   "outputs": [],
   "source": [
    "from sklearn.manifold import TSNE  "
   ]
  },
  {
   "cell_type": "code",
   "execution_count": null,
   "id": "a02261c4",
   "metadata": {
    "ExecuteTime": {
     "end_time": "2023-03-26T05:43:00.948444Z",
     "start_time": "2023-03-26T05:43:00.942354Z"
    }
   },
   "outputs": [],
   "source": [
    "tsne = TSNE(n_components=3, random_state=0) "
   ]
  },
  {
   "cell_type": "code",
   "execution_count": null,
   "id": "f0708860",
   "metadata": {
    "ExecuteTime": {
     "end_time": "2023-03-26T05:52:55.540786Z",
     "start_time": "2023-03-26T05:43:01.437819Z"
    }
   },
   "outputs": [],
   "source": [
    "X_tsne = pd.DataFrame()\n",
    "for x in [X_sc1, X_sc2, X_sc3,X_sc4, X_sc5, X_sc6]:\n",
    "    X_tsne = pd.concat( [X_tsne, pd.DataFrame(tsne.fit_transform(x)) ],ignore_index=True ) "
   ]
  },
  {
   "cell_type": "code",
   "execution_count": null,
   "id": "88860942",
   "metadata": {
    "ExecuteTime": {
     "end_time": "2023-03-26T05:52:55.798477Z",
     "start_time": "2023-03-26T05:52:55.791835Z"
    }
   },
   "outputs": [],
   "source": [
    "X_tsne.columns=[\"componente_1\",\"componente_2\",'componente_3']"
   ]
  },
  {
   "cell_type": "code",
   "execution_count": null,
   "id": "46a0e285",
   "metadata": {
    "ExecuteTime": {
     "end_time": "2023-03-26T05:52:56.395502Z",
     "start_time": "2023-03-26T05:52:56.013044Z"
    }
   },
   "outputs": [],
   "source": [
    "fig = px.scatter_3d(X_tsne, x='componente_1', y='componente_2', z='componente_3' )\n",
    "fig.show()"
   ]
  },
  {
   "cell_type": "markdown",
   "id": "53520207",
   "metadata": {},
   "source": [
    "## Número optimo de Clusters"
   ]
  },
  {
   "cell_type": "markdown",
   "id": "b2640cf7",
   "metadata": {},
   "source": [
    "### Codo"
   ]
  },
  {
   "cell_type": "code",
   "execution_count": null,
   "id": "b886574a",
   "metadata": {
    "ExecuteTime": {
     "end_time": "2023-03-26T05:53:31.939558Z",
     "start_time": "2023-03-26T05:53:12.146573Z"
    }
   },
   "outputs": [],
   "source": [
    "from yellowbrick.cluster import KElbowVisualizer\n",
    "model = KMeans()\n",
    "visualizer = KElbowVisualizer(model, k=(1,12)).fit(X_sc)\n",
    "visualizer.show()  "
   ]
  },
  {
   "cell_type": "code",
   "execution_count": null,
   "id": "90feb9ac",
   "metadata": {
    "ExecuteTime": {
     "end_time": "2023-03-26T05:53:44.488406Z",
     "start_time": "2023-03-26T05:53:32.160949Z"
    }
   },
   "outputs": [],
   "source": [
    "inercia = []\n",
    "for k in list(range(2, 10)):\n",
    "    km = KMeans(n_clusters=k)\n",
    "    km.fit(X_sc)\n",
    "    inercia.append(km.inertia_)"
   ]
  },
  {
   "cell_type": "code",
   "execution_count": null,
   "id": "a62ac1f8",
   "metadata": {
    "ExecuteTime": {
     "end_time": "2023-03-26T05:53:44.708216Z",
     "start_time": "2023-03-26T05:53:44.701047Z"
    }
   },
   "outputs": [],
   "source": [
    "df_ine=pd.DataFrame()\n",
    "df_ine[\"N_Clusters\"]=range(2,10)\n",
    "df_ine[\"Inercia\"]=inercia "
   ]
  },
  {
   "cell_type": "code",
   "execution_count": null,
   "id": "6ed90eb5",
   "metadata": {
    "ExecuteTime": {
     "end_time": "2023-03-26T05:53:45.005747Z",
     "start_time": "2023-03-26T05:53:44.933241Z"
    }
   },
   "outputs": [],
   "source": [
    "fig = px.line(df_ine, x=\"N_Clusters\", y=\"Inercia\", title=\"Número de clusters óptimo\") \n",
    "fig.show() "
   ]
  },
  {
   "cell_type": "markdown",
   "id": "ca480396",
   "metadata": {
    "ExecuteTime": {
     "end_time": "2023-03-22T02:44:53.137526Z",
     "start_time": "2023-03-22T02:44:53.131899Z"
    }
   },
   "source": [
    "### Silueta"
   ]
  },
  {
   "cell_type": "code",
   "execution_count": null,
   "id": "01c878d9",
   "metadata": {
    "ExecuteTime": {
     "end_time": "2023-03-26T05:53:45.219979Z",
     "start_time": "2023-03-26T05:53:45.214857Z"
    }
   },
   "outputs": [],
   "source": [
    "from yellowbrick.cluster import SilhouetteVisualizer"
   ]
  },
  {
   "cell_type": "code",
   "execution_count": null,
   "id": "65347e10",
   "metadata": {
    "ExecuteTime": {
     "end_time": "2023-03-26T05:57:18.874610Z",
     "start_time": "2023-03-26T05:53:45.430068Z"
    },
    "scrolled": false
   },
   "outputs": [],
   "source": [
    "for i in range(2,10):\n",
    "    km = KMeans(i, random_state=200)\n",
    "    visualizer = SilhouetteVisualizer(km, colors='yellowbrick')\n",
    "    visualizer.fit(X_sc)\n",
    "    print(f\"N Clusters : {i}\")\n",
    "    print(f\"Score Silueta : {round(visualizer.silhouette_score_,2)}\")\n",
    "    visualizer.show()  "
   ]
  },
  {
   "cell_type": "code",
   "execution_count": null,
   "id": "e04b6014",
   "metadata": {
    "ExecuteTime": {
     "end_time": "2023-03-26T05:59:13.832392Z",
     "start_time": "2023-03-26T05:57:19.118386Z"
    }
   },
   "outputs": [],
   "source": [
    "silueta = []\n",
    "for k in list(range(2, 10)):\n",
    "    km = KMeans(n_clusters=k)\n",
    "    km.fit(X_sc)\n",
    "    score = silhouette_score(X_sc, km.labels_, metric='euclidean')\n",
    "    silueta.append(score)"
   ]
  },
  {
   "cell_type": "code",
   "execution_count": null,
   "id": "96e46a9f",
   "metadata": {
    "ExecuteTime": {
     "end_time": "2023-03-26T05:59:14.065605Z",
     "start_time": "2023-03-26T05:59:14.056488Z"
    }
   },
   "outputs": [],
   "source": [
    "df_silueta=pd.DataFrame()\n",
    "df_silueta[\"N_Clusters\"]=range(2,10)\n",
    "df_silueta[\"score\"]=silueta "
   ]
  },
  {
   "cell_type": "code",
   "execution_count": null,
   "id": "c3e213f5",
   "metadata": {
    "ExecuteTime": {
     "end_time": "2023-03-26T05:59:14.333137Z",
     "start_time": "2023-03-26T05:59:14.279124Z"
    }
   },
   "outputs": [],
   "source": [
    "fig = px.line(df_silueta, x=\"N_Clusters\", y=\"score\", title=\"Número de clusters óptimo - Silueta\") \n",
    "fig.show()  "
   ]
  },
  {
   "cell_type": "code",
   "execution_count": null,
   "id": "9f415a28",
   "metadata": {},
   "outputs": [],
   "source": []
  },
  {
   "cell_type": "markdown",
   "id": "b8d031bc",
   "metadata": {},
   "source": [
    "### Calinski Harabasz"
   ]
  },
  {
   "cell_type": "code",
   "execution_count": null,
   "id": "15bce500",
   "metadata": {
    "ExecuteTime": {
     "end_time": "2023-03-26T05:59:14.571673Z",
     "start_time": "2023-03-26T05:59:14.559445Z"
    }
   },
   "outputs": [],
   "source": [
    "from sklearn.metrics import calinski_harabasz_score"
   ]
  },
  {
   "cell_type": "code",
   "execution_count": null,
   "id": "e779feed",
   "metadata": {
    "ExecuteTime": {
     "end_time": "2023-03-26T05:59:39.440873Z",
     "start_time": "2023-03-26T05:59:14.811851Z"
    }
   },
   "outputs": [],
   "source": [
    "calinski = []\n",
    "for k in list(range(2, 10)):\n",
    "    km = KMeans(n_clusters=k)\n",
    "    km.fit(X_sc)\n",
    "    labels = km.fit_predict(X_sc)\n",
    "    score = calinski_harabasz_score(X_sc,labels)\n",
    "    calinski.append(score) "
   ]
  },
  {
   "cell_type": "code",
   "execution_count": null,
   "id": "b344b9b6",
   "metadata": {
    "ExecuteTime": {
     "end_time": "2023-03-26T05:59:39.658391Z",
     "start_time": "2023-03-26T05:59:39.651754Z"
    }
   },
   "outputs": [],
   "source": [
    "df_calinski=pd.DataFrame()\n",
    "df_calinski[\"N_Clusters\"]=range(2,10)\n",
    "df_calinski[\"score\"]=calinski"
   ]
  },
  {
   "cell_type": "code",
   "execution_count": null,
   "id": "fe4ec6e1",
   "metadata": {
    "ExecuteTime": {
     "end_time": "2023-03-26T05:59:39.947273Z",
     "start_time": "2023-03-26T05:59:39.889380Z"
    }
   },
   "outputs": [],
   "source": [
    "fig = px.line(df_calinski, x=\"N_Clusters\", y=\"score\", title=\"Número de clusters óptimo - Calinski\") \n",
    "fig.show()"
   ]
  },
  {
   "cell_type": "code",
   "execution_count": null,
   "id": "2527b8dd",
   "metadata": {},
   "outputs": [],
   "source": []
  },
  {
   "cell_type": "code",
   "execution_count": null,
   "id": "2ff980c3",
   "metadata": {},
   "outputs": [],
   "source": []
  },
  {
   "cell_type": "code",
   "execution_count": null,
   "id": "be7a10bd",
   "metadata": {},
   "outputs": [],
   "source": []
  },
  {
   "cell_type": "markdown",
   "id": "4b6e4ea6",
   "metadata": {},
   "source": [
    "### Daves Bouldin"
   ]
  },
  {
   "cell_type": "code",
   "execution_count": null,
   "id": "5e9ffd61",
   "metadata": {
    "ExecuteTime": {
     "end_time": "2023-03-26T05:59:40.238405Z",
     "start_time": "2023-03-26T05:59:40.233758Z"
    }
   },
   "outputs": [],
   "source": [
    "from sklearn.metrics import davies_bouldin_score "
   ]
  },
  {
   "cell_type": "code",
   "execution_count": null,
   "id": "f09715da",
   "metadata": {
    "ExecuteTime": {
     "end_time": "2023-03-26T06:00:04.696746Z",
     "start_time": "2023-03-26T05:59:40.444911Z"
    }
   },
   "outputs": [],
   "source": [
    "bouldin = []\n",
    "for k in list(range(2, 10)):\n",
    "    km = KMeans(n_clusters=k)\n",
    "    km.fit(X_sc)\n",
    "    labels = km.fit_predict(X_sc)\n",
    "    score = davies_bouldin_score(X_sc,labels)\n",
    "    bouldin.append(score)"
   ]
  },
  {
   "cell_type": "code",
   "execution_count": null,
   "id": "3701e958",
   "metadata": {
    "ExecuteTime": {
     "end_time": "2023-03-26T06:00:04.964312Z",
     "start_time": "2023-03-26T06:00:04.957078Z"
    }
   },
   "outputs": [],
   "source": [
    "df_bouldin=pd.DataFrame()\n",
    "df_bouldin[\"N_Clusters\"]=range(2,10)\n",
    "df_bouldin[\"score\"]=bouldin"
   ]
  },
  {
   "cell_type": "code",
   "execution_count": null,
   "id": "6f112f14",
   "metadata": {
    "ExecuteTime": {
     "end_time": "2023-03-26T06:00:05.277714Z",
     "start_time": "2023-03-26T06:00:05.215013Z"
    }
   },
   "outputs": [],
   "source": [
    "fig = px.line(df_bouldin, x=\"N_Clusters\", y=\"score\", title=\"Número de clusters óptimo - Davies  Bouldin\") \n",
    "fig.show() "
   ]
  },
  {
   "cell_type": "markdown",
   "id": "681eda09",
   "metadata": {},
   "source": [
    "## Clusters"
   ]
  },
  {
   "cell_type": "markdown",
   "id": "872d8542",
   "metadata": {},
   "source": [
    "### K Means"
   ]
  },
  {
   "cell_type": "code",
   "execution_count": null,
   "id": "e2f91cd1",
   "metadata": {
    "ExecuteTime": {
     "end_time": "2023-03-26T06:01:48.501890Z",
     "start_time": "2023-03-26T06:01:48.494039Z"
    }
   },
   "outputs": [],
   "source": [
    "from sklearn.cluster import KMeans  "
   ]
  },
  {
   "cell_type": "code",
   "execution_count": null,
   "id": "c0905593",
   "metadata": {
    "ExecuteTime": {
     "end_time": "2023-03-26T06:04:00.351630Z",
     "start_time": "2023-03-26T06:04:00.342915Z"
    }
   },
   "outputs": [],
   "source": [
    "km = KMeans(n_clusters=5,init='random', random_state=300)"
   ]
  },
  {
   "cell_type": "code",
   "execution_count": null,
   "id": "34cae470",
   "metadata": {
    "ExecuteTime": {
     "end_time": "2023-03-26T06:04:01.324448Z",
     "start_time": "2023-03-26T06:04:00.757317Z"
    }
   },
   "outputs": [],
   "source": [
    "km.fit(X_sc) "
   ]
  },
  {
   "cell_type": "code",
   "execution_count": null,
   "id": "d88b62e0",
   "metadata": {
    "ExecuteTime": {
     "end_time": "2023-03-26T06:04:01.684796Z",
     "start_time": "2023-03-26T06:04:01.676334Z"
    }
   },
   "outputs": [],
   "source": [
    "df_aux=df.copy()\n",
    "df_aux[\"cl\"]=km.predict(X_sc)   "
   ]
  },
  {
   "cell_type": "code",
   "execution_count": null,
   "id": "cf64a359",
   "metadata": {
    "ExecuteTime": {
     "end_time": "2023-03-26T06:04:02.077349Z",
     "start_time": "2023-03-26T06:04:02.047562Z"
    }
   },
   "outputs": [],
   "source": [
    "df_aux "
   ]
  },
  {
   "cell_type": "code",
   "execution_count": null,
   "id": "8cd5d08c",
   "metadata": {
    "ExecuteTime": {
     "end_time": "2023-03-26T06:04:02.617710Z",
     "start_time": "2023-03-26T06:04:02.412517Z"
    }
   },
   "outputs": [],
   "source": [
    "df_aux['cl'].value_counts().plot(kind='pie') "
   ]
  },
  {
   "cell_type": "code",
   "execution_count": null,
   "id": "f23e2dc9",
   "metadata": {
    "ExecuteTime": {
     "end_time": "2023-03-26T06:04:03.005475Z",
     "start_time": "2023-03-26T06:04:02.982286Z"
    }
   },
   "outputs": [],
   "source": [
    "X_pca['cl'] = X_tsne['cl'] =  df_aux['cl'].astype(str)"
   ]
  },
  {
   "cell_type": "code",
   "execution_count": null,
   "id": "4e92c510",
   "metadata": {
    "ExecuteTime": {
     "end_time": "2023-03-26T06:04:03.978631Z",
     "start_time": "2023-03-26T06:04:03.502376Z"
    }
   },
   "outputs": [],
   "source": [
    "fig = px.scatter_3d(X_pca, x='componente_1', y='componente_2', z='componente_3',\n",
    "              color='cl')\n",
    "fig.show() "
   ]
  },
  {
   "cell_type": "code",
   "execution_count": null,
   "id": "7882b62d",
   "metadata": {
    "ExecuteTime": {
     "end_time": "2023-03-26T06:04:05.915662Z",
     "start_time": "2023-03-26T06:04:05.522993Z"
    }
   },
   "outputs": [],
   "source": [
    "fig = px.scatter_3d(X_tsne, x='componente_1', y='componente_2', z='componente_3',\n",
    "              color='cl')\n",
    "fig.show() "
   ]
  },
  {
   "cell_type": "markdown",
   "id": "d006fca1",
   "metadata": {},
   "source": [
    "### GM"
   ]
  },
  {
   "cell_type": "code",
   "execution_count": null,
   "id": "f23cbb22",
   "metadata": {
    "ExecuteTime": {
     "end_time": "2023-03-26T06:02:13.140640Z",
     "start_time": "2023-03-26T06:02:13.125909Z"
    }
   },
   "outputs": [],
   "source": [
    "from sklearn.mixture import GaussianMixture "
   ]
  },
  {
   "cell_type": "code",
   "execution_count": null,
   "id": "b52699c8",
   "metadata": {
    "ExecuteTime": {
     "end_time": "2023-03-26T06:02:16.802363Z",
     "start_time": "2023-03-26T06:02:16.790091Z"
    }
   },
   "outputs": [],
   "source": [
    "GMM=GaussianMixture(n_components=6,random_state=0)\n",
    "GMM "
   ]
  },
  {
   "cell_type": "code",
   "execution_count": null,
   "id": "22e83c4b",
   "metadata": {
    "ExecuteTime": {
     "end_time": "2023-03-26T06:02:22.015996Z",
     "start_time": "2023-03-26T06:02:17.234631Z"
    }
   },
   "outputs": [],
   "source": [
    "df_aux=df.copy()\n",
    "df_aux[\"cl\"]= GMM.fit_predict(X_sc)  "
   ]
  },
  {
   "cell_type": "code",
   "execution_count": null,
   "id": "51c9245a",
   "metadata": {
    "ExecuteTime": {
     "end_time": "2023-03-26T06:02:22.392746Z",
     "start_time": "2023-03-26T06:02:22.372866Z"
    }
   },
   "outputs": [],
   "source": [
    "X_pca['cl'] = df_aux['cl'].astype(str) "
   ]
  },
  {
   "cell_type": "code",
   "execution_count": null,
   "id": "b4580635",
   "metadata": {
    "ExecuteTime": {
     "end_time": "2023-03-26T06:02:22.859655Z",
     "start_time": "2023-03-26T06:02:22.704678Z"
    }
   },
   "outputs": [],
   "source": [
    "df_aux['cl'].value_counts().plot(kind='pie')  "
   ]
  },
  {
   "cell_type": "code",
   "execution_count": null,
   "id": "3fa16387",
   "metadata": {
    "ExecuteTime": {
     "end_time": "2023-03-26T06:02:23.782157Z",
     "start_time": "2023-03-26T06:02:23.203586Z"
    }
   },
   "outputs": [],
   "source": [
    "fig = px.scatter_3d(X_pca, x='componente_1', y='componente_2', z='componente_3',\n",
    "              color='cl')\n",
    "fig.show() "
   ]
  },
  {
   "cell_type": "code",
   "execution_count": null,
   "id": "1cce33a8",
   "metadata": {},
   "outputs": [],
   "source": []
  },
  {
   "cell_type": "markdown",
   "id": "91522fdb",
   "metadata": {},
   "source": [
    "### DBSCAN"
   ]
  },
  {
   "cell_type": "code",
   "execution_count": null,
   "id": "b5a76e38",
   "metadata": {
    "ExecuteTime": {
     "end_time": "2023-03-26T06:02:39.352597Z",
     "start_time": "2023-03-26T06:02:37.096264Z"
    }
   },
   "outputs": [],
   "source": [
    "from sklearn.neighbors import NearestNeighbors\n",
    "neigh = NearestNeighbors(n_neighbors=3)\n",
    "nbrs = neigh.fit(X_sc)\n",
    "distancias,_ = nbrs.kneighbors(X_sc)\n",
    "distancias = np.sort(distancias, axis=0) \n",
    "distancias = distancias[:,1] "
   ]
  },
  {
   "cell_type": "code",
   "execution_count": null,
   "id": "59309c24",
   "metadata": {
    "ExecuteTime": {
     "end_time": "2023-03-26T06:02:39.710119Z",
     "start_time": "2023-03-26T06:02:39.686341Z"
    }
   },
   "outputs": [],
   "source": [
    "aux=pd.DataFrame()\n",
    "aux[\"distancias\"]=sorted(list(distancias),reverse=False)\n",
    "aux[\"index\"]=range(len(distancias))   "
   ]
  },
  {
   "cell_type": "code",
   "execution_count": null,
   "id": "2b9fa582",
   "metadata": {
    "ExecuteTime": {
     "end_time": "2023-03-26T06:02:40.221490Z",
     "start_time": "2023-03-26T06:02:40.030381Z"
    }
   },
   "outputs": [],
   "source": [
    "fig = px.line(aux, x=\"index\", y=\"distancias\", title=\"Valor óptimo de Epsilon\") \n",
    "fig.show()  "
   ]
  },
  {
   "cell_type": "code",
   "execution_count": null,
   "id": "f0e43cb6",
   "metadata": {
    "ExecuteTime": {
     "end_time": "2023-03-26T06:02:40.498785Z",
     "start_time": "2023-03-26T06:02:40.491916Z"
    }
   },
   "outputs": [],
   "source": [
    "0.8 "
   ]
  },
  {
   "cell_type": "code",
   "execution_count": null,
   "id": "44873296",
   "metadata": {
    "ExecuteTime": {
     "end_time": "2023-03-26T06:03:10.513376Z",
     "start_time": "2023-03-26T06:03:10.504857Z"
    }
   },
   "outputs": [],
   "source": [
    "from sklearn.cluster import DBSCAN\n",
    "dbscan_opt=DBSCAN(eps=0.6,min_samples=6)"
   ]
  },
  {
   "cell_type": "code",
   "execution_count": null,
   "id": "596cec56",
   "metadata": {
    "ExecuteTime": {
     "end_time": "2023-03-26T06:03:19.049105Z",
     "start_time": "2023-03-26T06:03:11.371523Z"
    }
   },
   "outputs": [],
   "source": [
    "df_aux=df.copy()  \n",
    "df_aux[\"cl\"]= dbscan_opt.fit_predict(X_sc) "
   ]
  },
  {
   "cell_type": "code",
   "execution_count": null,
   "id": "ed03da9f",
   "metadata": {
    "ExecuteTime": {
     "end_time": "2023-03-26T06:03:19.763821Z",
     "start_time": "2023-03-26T06:03:19.743426Z"
    }
   },
   "outputs": [],
   "source": [
    "X_pca['cl'] = df_aux['cl'].astype(str) "
   ]
  },
  {
   "cell_type": "code",
   "execution_count": null,
   "id": "454cfbc8",
   "metadata": {
    "ExecuteTime": {
     "end_time": "2023-03-26T06:03:20.914623Z",
     "start_time": "2023-03-26T06:03:20.493839Z"
    }
   },
   "outputs": [],
   "source": [
    "fig = px.scatter_3d(X_pca, x='componente_1', y='componente_2', z='componente_3',\n",
    "              color='cl')\n",
    "fig.show()  "
   ]
  },
  {
   "cell_type": "code",
   "execution_count": null,
   "id": "92a5329b",
   "metadata": {},
   "outputs": [],
   "source": []
  },
  {
   "cell_type": "markdown",
   "id": "33563fad",
   "metadata": {},
   "source": [
    "## Perfilamiento del modelo"
   ]
  },
  {
   "cell_type": "code",
   "execution_count": null,
   "id": "efdce061",
   "metadata": {
    "ExecuteTime": {
     "end_time": "2023-03-23T04:36:55.665146Z",
     "start_time": "2023-03-23T04:36:54.776737Z"
    }
   },
   "outputs": [],
   "source": [
    "df['cl'] = km.fit_predict(X_sc)   "
   ]
  },
  {
   "cell_type": "code",
   "execution_count": null,
   "id": "7457f11c",
   "metadata": {
    "ExecuteTime": {
     "end_time": "2023-03-23T04:36:55.715242Z",
     "start_time": "2023-03-23T04:36:55.683824Z"
    }
   },
   "outputs": [],
   "source": [
    "df"
   ]
  },
  {
   "cell_type": "code",
   "execution_count": null,
   "id": "79667320",
   "metadata": {},
   "outputs": [],
   "source": []
  },
  {
   "cell_type": "code",
   "execution_count": null,
   "id": "55ffbb18",
   "metadata": {
    "ExecuteTime": {
     "end_time": "2023-03-23T04:36:56.501235Z",
     "start_time": "2023-03-23T04:36:56.465332Z"
    }
   },
   "outputs": [],
   "source": [
    "print('Medina Poblacional')\n",
    "display(df[best].median().to_frame().T)  "
   ]
  },
  {
   "cell_type": "code",
   "execution_count": null,
   "id": "d9beefb7",
   "metadata": {
    "ExecuteTime": {
     "end_time": "2023-03-23T04:36:57.987942Z",
     "start_time": "2023-03-23T04:36:57.965277Z"
    }
   },
   "outputs": [],
   "source": [
    "print('Media Poblacional')\n",
    "display(df[best].mean().to_frame().T)  "
   ]
  },
  {
   "cell_type": "code",
   "execution_count": null,
   "id": "f378ce09",
   "metadata": {
    "ExecuteTime": {
     "end_time": "2023-03-23T04:36:58.041535Z",
     "start_time": "2023-03-23T04:36:57.991983Z"
    }
   },
   "outputs": [],
   "source": [
    "print('Media por Cluster')\n",
    "display(df[['cl']+best].groupby('cl').mean())  "
   ]
  },
  {
   "cell_type": "code",
   "execution_count": null,
   "id": "1a895ecf",
   "metadata": {
    "ExecuteTime": {
     "end_time": "2023-03-23T01:10:45.811468Z",
     "start_time": "2023-03-23T01:10:45.785124Z"
    }
   },
   "outputs": [],
   "source": []
  },
  {
   "cell_type": "code",
   "execution_count": null,
   "id": "6b0d9a92",
   "metadata": {
    "ExecuteTime": {
     "end_time": "2023-03-23T04:36:59.562832Z",
     "start_time": "2023-03-23T04:36:59.554303Z"
    }
   },
   "outputs": [],
   "source": [
    "vard_prob_dicts['education']"
   ]
  },
  {
   "cell_type": "code",
   "execution_count": null,
   "id": "ba101371",
   "metadata": {
    "ExecuteTime": {
     "end_time": "2023-03-23T04:37:00.317607Z",
     "start_time": "2023-03-23T04:37:00.311987Z"
    }
   },
   "outputs": [],
   "source": [
    "vard_prob_dicts['relationship']"
   ]
  },
  {
   "cell_type": "code",
   "execution_count": null,
   "id": "44a67567",
   "metadata": {},
   "outputs": [],
   "source": []
  },
  {
   "cell_type": "code",
   "execution_count": null,
   "id": "edb0d7f4",
   "metadata": {},
   "outputs": [],
   "source": []
  }
 ],
 "metadata": {
  "hide_input": false,
  "kernelspec": {
   "display_name": "dave",
   "language": "python",
   "name": "python3"
  },
  "language_info": {
   "codemirror_mode": {
    "name": "ipython",
    "version": 3
   },
   "file_extension": ".py",
   "mimetype": "text/x-python",
   "name": "python",
   "nbconvert_exporter": "python",
   "pygments_lexer": "ipython3",
   "version": "3.10.12"
  },
  "toc": {
   "base_numbering": 1,
   "nav_menu": {},
   "number_sections": true,
   "sideBar": true,
   "skip_h1_title": false,
   "title_cell": "Table of Contents",
   "title_sidebar": "Contents",
   "toc_cell": false,
   "toc_position": {
    "height": "calc(100% - 180px)",
    "left": "10px",
    "top": "150px",
    "width": "240px"
   },
   "toc_section_display": true,
   "toc_window_display": true
  },
  "varInspector": {
   "cols": {
    "lenName": 16,
    "lenType": 16,
    "lenVar": 40
   },
   "kernels_config": {
    "python": {
     "delete_cmd_postfix": "",
     "delete_cmd_prefix": "del ",
     "library": "var_list.py",
     "varRefreshCmd": "print(var_dic_list())"
    },
    "r": {
     "delete_cmd_postfix": ") ",
     "delete_cmd_prefix": "rm(",
     "library": "var_list.r",
     "varRefreshCmd": "cat(var_dic_list()) "
    }
   },
   "types_to_exclude": [
    "module",
    "function",
    "builtin_function_or_method",
    "instance",
    "_Feature"
   ],
   "window_display": false
  }
 },
 "nbformat": 4,
 "nbformat_minor": 5
}
